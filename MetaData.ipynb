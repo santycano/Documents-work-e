{
 "cells": [
  {
   "cell_type": "markdown",
   "source": [],
   "metadata": {
    "collapsed": false,
    "pycharm": {
     "name": "#%% md\n"
    }
   }
  },
  {
   "cell_type": "code",
   "execution_count": 3,
   "outputs": [],
   "source": [
    "import pandas as pd\n",
    "\n",
    "# Replace 'file_path.json' with the path to your JSON file in Azure Data Lake Storage\n",
    "file_path = \"./Data-factore/part-00000-tid-5018168667661668574-f4c36722-b293-4abc-a5ab-4fb868e096e3-215-1-c000.json\"\n",
    "\n",
    "# Read the JSON file into a DataFrame\n",
    "df = pd.read_json(file_path, lines=True)\n",
    "\n",
    "# Show the DataFrame\n",
    "#df.to_excel('Metadata.xlsx')\n"
   ],
   "metadata": {
    "collapsed": false,
    "pycharm": {
     "name": "#%%\n"
    }
   }
  },
  {
   "cell_type": "code",
   "execution_count": 4,
   "outputs": [
    {
     "data": {
      "text/plain": "                                               also_buy  \\\n0                                                    []   \n1                                                    []   \n2                                                    []   \n3                                                    []   \n4                                                    []   \n...                                                 ...   \n9995                                                 []   \n9996                                                 []   \n9997  [B015E9OVSS, B01F2LA6FA, B00VWEQHKA, B00IKCYQD...   \n9998                                                 []   \n9999                                                 []   \n\n                                              also_view        asin  \\\n0                                                    []  B00FY83H1W   \n1                              [B07G3XDQ2G, B079ZY8WVM]  B00FY83JG0   \n2                                                    []  B00FY83CBC   \n3                                          [B009SRJ2G4]  B00FY83EQK   \n4                                                    []  B00FY7ZOPA   \n...                                                 ...         ...   \n9995                                                 []  B00G4ROE82   \n9996  [B00Y43YXNY, B00L3LLPH2, B00IKCYK4W, B016E6IRI...  B00G4ROEZA   \n9997  [B004TIVQJS, B00IKCYQDM, B007AMRQKS, B00VWEQS1...  B00G4RP8NM   \n9998                                                 []  B00G4ROIXS   \n9999                                                 []  B00G4RR24A   \n\n            brand                                           category  \\\n0     Buckle Down  [Clothing, Shoes & Jewelry, Novelty & More, Cl...   \n1     Buckle Down  [Clothing, Shoes & Jewelry, Novelty & More, Cl...   \n2     Buckle Down  [Clothing, Shoes & Jewelry, Novelty & More, Cl...   \n3     Buckle Down  [Clothing, Shoes & Jewelry, Novelty & More, Cl...   \n4            IMPB  [Clothing, Shoes & Jewelry, Novelty & More, Cl...   \n...           ...                                                ...   \n9995         Tumi  [Clothing, Shoes & Jewelry, Luggage & Travel G...   \n9996      Arnette  [Clothing, Shoes & Jewelry, Women, Accessories...   \n9997      Arnette  [Clothing, Shoes & Jewelry, Women, Accessories...   \n9998      Arnette  [Clothing, Shoes & Jewelry, Women, Accessories...   \n9999        Mevoi  [Clothing, Shoes & Jewelry, Women, Jewelry, Je...   \n\n                                                   date  \\\n0     <div class=\"a-fixed-left-grid a-spacing-none\">...   \n1     <div class=\"a-fixed-left-grid a-spacing-none\">...   \n2     <div class=\"a-fixed-left-grid a-spacing-none\">...   \n3     <div class=\"a-fixed-left-grid a-spacing-none\">...   \n4     <div class=\"a-fixed-left-grid a-spacing-none\">...   \n...                                                 ...   \n9995                                                      \n9996  <div class=\"a-fixed-left-grid a-spacing-none\">...   \n9997  <div class=\"a-fixed-left-grid a-spacing-none\">...   \n9998  <div class=\"a-fixed-left-grid a-spacing-none\">...   \n9999                                              Mevoi   \n\n                                            description details  \\\n0     [Buckle-Down's iconic Seatbelt Belt is a cool,...      {}   \n1     [Buckle-Down's iconic Seatbelt Belt is a cool,...      {}   \n2     [This hinged wallet features Daryl Dixon from ...      {}   \n3     [This awesome men's bi-fold wallet is made fro...      {}   \n4                                                    []      {}   \n...                                                 ...     ...   \n9995  [Tumi elevates your travel experience with Alp...      {}   \n9996  [In 1992, Arnette was founded on the principle...      {}   \n9997  [In 1992, Arnette was founded on the principle...      {}   \n9998  [In 1992, Arnette was founded on the principle...      {}   \n9999  [Elegant jewelry set in silver-tone setting. C...      {}   \n\n                                                feature fit  \\\n0     [100% Polyester, Made in US, Buckle closure, H...       \n1     [100% Polyester, Made in US, Buckle closure, H...       \n2     [90% Polyurethane, 10% Metal Fiber (Metal), Ma...       \n3     [Polyeurethane, Made in US, Fold closure, Hand...       \n4     [<span class=\"a-text-bold\">Package Dimensions:...       \n...                                                 ...  ..   \n9995  [Front U-zip pocket, additional front zip pock...       \n9996  [Imported, Plastic frame, Plastic lens, Non-po...       \n9997  [Imported, Plastic frame, Plastic lens, Non-Po...       \n9998  [Imported, Plastic frame, Plastic lens, Non-Po...       \n9999  [Necklace measures 14-17 inches long with an e...       \n\n                                                  image  \\\n0     [https://images-na.ssl-images-amazon.com/image...   \n1     [https://images-na.ssl-images-amazon.com/image...   \n2     [https://images-na.ssl-images-amazon.com/image...   \n3     [https://images-na.ssl-images-amazon.com/image...   \n4                                                    []   \n...                                                 ...   \n9995  [https://images-na.ssl-images-amazon.com/image...   \n9996  [https://images-na.ssl-images-amazon.com/image...   \n9997  [https://images-na.ssl-images-amazon.com/image...   \n9998  [https://images-na.ssl-images-amazon.com/image...   \n9999  [https://images-na.ssl-images-amazon.com/image...   \n\n                                               main_cat            price  \\\n0     <img src=\"https://images-na.ssl-images-amazon....  $23.95 - $25.95   \n1     <img src=\"https://images-na.ssl-images-amazon....  $23.95 - $25.95   \n2     <img src=\"https://images-na.ssl-images-amazon....                    \n3     <img src=\"https://images-na.ssl-images-amazon....                    \n4     <img src=\"https://images-na.ssl-images-amazon....                    \n...                                                 ...              ...   \n9995                                                                       \n9996  <img src=\"https://images-na.ssl-images-amazon....           $65.00   \n9997  <img src=\"https://images-na.ssl-images-amazon....           $48.99   \n9998  <img src=\"https://images-na.ssl-images-amazon....                    \n9999  <img src=\"https://images-na.ssl-images-amazon....           $12.40   \n\n                                                   rank similar_item tech1  \\\n0              4,451,367 in Clothing, Shoes & Jewelry (                      \n1              1,735,940 in Clothing, Shoes & Jewelry (                      \n2              4,736,455 in Clothing, Shoes & Jewelry (                      \n3              2,854,303 in Clothing, Shoes & Jewelry (                      \n4              4,577,254 in Clothing, Shoes & Jewelry (                      \n...                                                 ...          ...   ...   \n9995  [\">#5,952,712 in Clothing, Shoes & Jewelry (Se...                      \n9996                                                 []                      \n9997                                                 []                      \n9998           7,689,344 in Clothing, Shoes & Jewelry (                      \n9999          10,899,333 in Clothing, Shoes & Jewelry (                      \n\n     tech2                                              title  \n0            Buckle Down Seatbelt Belt My Little Pony Wmlp020  \n1           Buckle Down Men's Seatbelt Belt My Little Pony...  \n2           The Walking Dead I &quot;Heart&quot; Daryl Hin...  \n3                    Buckle-Down Bifold Wallet My Little Pony  \n4           Star Wars Mens T-Shirt - &quot;Vader is Coming...  \n...    ...                                                ...  \n9995        Tumi Alpha 2 4 Wheeled Expandable Fortnight Tr...  \n9996        Arnette Witch Doctor AN4177-25 Rectangular Sun...  \n9997                Arnette Fire Drill Rectangular Sunglasses  \n9998                        Arnette Cold One Round Sunglasses  \n9999        Charming Clear and Color Simulated Rhinestone ...  \n\n[10000 rows x 18 columns]",
      "text/html": "<div>\n<style scoped>\n    .dataframe tbody tr th:only-of-type {\n        vertical-align: middle;\n    }\n\n    .dataframe tbody tr th {\n        vertical-align: top;\n    }\n\n    .dataframe thead th {\n        text-align: right;\n    }\n</style>\n<table border=\"1\" class=\"dataframe\">\n  <thead>\n    <tr style=\"text-align: right;\">\n      <th></th>\n      <th>also_buy</th>\n      <th>also_view</th>\n      <th>asin</th>\n      <th>brand</th>\n      <th>category</th>\n      <th>date</th>\n      <th>description</th>\n      <th>details</th>\n      <th>feature</th>\n      <th>fit</th>\n      <th>image</th>\n      <th>main_cat</th>\n      <th>price</th>\n      <th>rank</th>\n      <th>similar_item</th>\n      <th>tech1</th>\n      <th>tech2</th>\n      <th>title</th>\n    </tr>\n  </thead>\n  <tbody>\n    <tr>\n      <th>0</th>\n      <td>[]</td>\n      <td>[]</td>\n      <td>B00FY83H1W</td>\n      <td>Buckle Down</td>\n      <td>[Clothing, Shoes &amp; Jewelry, Novelty &amp; More, Cl...</td>\n      <td>&lt;div class=\"a-fixed-left-grid a-spacing-none\"&gt;...</td>\n      <td>[Buckle-Down's iconic Seatbelt Belt is a cool,...</td>\n      <td>{}</td>\n      <td>[100% Polyester, Made in US, Buckle closure, H...</td>\n      <td></td>\n      <td>[https://images-na.ssl-images-amazon.com/image...</td>\n      <td>&lt;img src=\"https://images-na.ssl-images-amazon....</td>\n      <td>$23.95 - $25.95</td>\n      <td>4,451,367 in Clothing, Shoes &amp; Jewelry (</td>\n      <td></td>\n      <td></td>\n      <td></td>\n      <td>Buckle Down Seatbelt Belt My Little Pony Wmlp020</td>\n    </tr>\n    <tr>\n      <th>1</th>\n      <td>[]</td>\n      <td>[B07G3XDQ2G, B079ZY8WVM]</td>\n      <td>B00FY83JG0</td>\n      <td>Buckle Down</td>\n      <td>[Clothing, Shoes &amp; Jewelry, Novelty &amp; More, Cl...</td>\n      <td>&lt;div class=\"a-fixed-left-grid a-spacing-none\"&gt;...</td>\n      <td>[Buckle-Down's iconic Seatbelt Belt is a cool,...</td>\n      <td>{}</td>\n      <td>[100% Polyester, Made in US, Buckle closure, H...</td>\n      <td></td>\n      <td>[https://images-na.ssl-images-amazon.com/image...</td>\n      <td>&lt;img src=\"https://images-na.ssl-images-amazon....</td>\n      <td>$23.95 - $25.95</td>\n      <td>1,735,940 in Clothing, Shoes &amp; Jewelry (</td>\n      <td></td>\n      <td></td>\n      <td></td>\n      <td>Buckle Down Men's Seatbelt Belt My Little Pony...</td>\n    </tr>\n    <tr>\n      <th>2</th>\n      <td>[]</td>\n      <td>[]</td>\n      <td>B00FY83CBC</td>\n      <td>Buckle Down</td>\n      <td>[Clothing, Shoes &amp; Jewelry, Novelty &amp; More, Cl...</td>\n      <td>&lt;div class=\"a-fixed-left-grid a-spacing-none\"&gt;...</td>\n      <td>[This hinged wallet features Daryl Dixon from ...</td>\n      <td>{}</td>\n      <td>[90% Polyurethane, 10% Metal Fiber (Metal), Ma...</td>\n      <td></td>\n      <td>[https://images-na.ssl-images-amazon.com/image...</td>\n      <td>&lt;img src=\"https://images-na.ssl-images-amazon....</td>\n      <td></td>\n      <td>4,736,455 in Clothing, Shoes &amp; Jewelry (</td>\n      <td></td>\n      <td></td>\n      <td></td>\n      <td>The Walking Dead I &amp;quot;Heart&amp;quot; Daryl Hin...</td>\n    </tr>\n    <tr>\n      <th>3</th>\n      <td>[]</td>\n      <td>[B009SRJ2G4]</td>\n      <td>B00FY83EQK</td>\n      <td>Buckle Down</td>\n      <td>[Clothing, Shoes &amp; Jewelry, Novelty &amp; More, Cl...</td>\n      <td>&lt;div class=\"a-fixed-left-grid a-spacing-none\"&gt;...</td>\n      <td>[This awesome men's bi-fold wallet is made fro...</td>\n      <td>{}</td>\n      <td>[Polyeurethane, Made in US, Fold closure, Hand...</td>\n      <td></td>\n      <td>[https://images-na.ssl-images-amazon.com/image...</td>\n      <td>&lt;img src=\"https://images-na.ssl-images-amazon....</td>\n      <td></td>\n      <td>2,854,303 in Clothing, Shoes &amp; Jewelry (</td>\n      <td></td>\n      <td></td>\n      <td></td>\n      <td>Buckle-Down Bifold Wallet My Little Pony</td>\n    </tr>\n    <tr>\n      <th>4</th>\n      <td>[]</td>\n      <td>[]</td>\n      <td>B00FY7ZOPA</td>\n      <td>IMPB</td>\n      <td>[Clothing, Shoes &amp; Jewelry, Novelty &amp; More, Cl...</td>\n      <td>&lt;div class=\"a-fixed-left-grid a-spacing-none\"&gt;...</td>\n      <td>[]</td>\n      <td>{}</td>\n      <td>[&lt;span class=\"a-text-bold\"&gt;Package Dimensions:...</td>\n      <td></td>\n      <td>[]</td>\n      <td>&lt;img src=\"https://images-na.ssl-images-amazon....</td>\n      <td></td>\n      <td>4,577,254 in Clothing, Shoes &amp; Jewelry (</td>\n      <td></td>\n      <td></td>\n      <td></td>\n      <td>Star Wars Mens T-Shirt - &amp;quot;Vader is Coming...</td>\n    </tr>\n    <tr>\n      <th>...</th>\n      <td>...</td>\n      <td>...</td>\n      <td>...</td>\n      <td>...</td>\n      <td>...</td>\n      <td>...</td>\n      <td>...</td>\n      <td>...</td>\n      <td>...</td>\n      <td>...</td>\n      <td>...</td>\n      <td>...</td>\n      <td>...</td>\n      <td>...</td>\n      <td>...</td>\n      <td>...</td>\n      <td>...</td>\n      <td>...</td>\n    </tr>\n    <tr>\n      <th>9995</th>\n      <td>[]</td>\n      <td>[]</td>\n      <td>B00G4ROE82</td>\n      <td>Tumi</td>\n      <td>[Clothing, Shoes &amp; Jewelry, Luggage &amp; Travel G...</td>\n      <td></td>\n      <td>[Tumi elevates your travel experience with Alp...</td>\n      <td>{}</td>\n      <td>[Front U-zip pocket, additional front zip pock...</td>\n      <td></td>\n      <td>[https://images-na.ssl-images-amazon.com/image...</td>\n      <td></td>\n      <td></td>\n      <td>[\"&gt;#5,952,712 in Clothing, Shoes &amp; Jewelry (Se...</td>\n      <td></td>\n      <td></td>\n      <td></td>\n      <td>Tumi Alpha 2 4 Wheeled Expandable Fortnight Tr...</td>\n    </tr>\n    <tr>\n      <th>9996</th>\n      <td>[]</td>\n      <td>[B00Y43YXNY, B00L3LLPH2, B00IKCYK4W, B016E6IRI...</td>\n      <td>B00G4ROEZA</td>\n      <td>Arnette</td>\n      <td>[Clothing, Shoes &amp; Jewelry, Women, Accessories...</td>\n      <td>&lt;div class=\"a-fixed-left-grid a-spacing-none\"&gt;...</td>\n      <td>[In 1992, Arnette was founded on the principle...</td>\n      <td>{}</td>\n      <td>[Imported, Plastic frame, Plastic lens, Non-po...</td>\n      <td></td>\n      <td>[https://images-na.ssl-images-amazon.com/image...</td>\n      <td>&lt;img src=\"https://images-na.ssl-images-amazon....</td>\n      <td>$65.00</td>\n      <td>[]</td>\n      <td></td>\n      <td></td>\n      <td></td>\n      <td>Arnette Witch Doctor AN4177-25 Rectangular Sun...</td>\n    </tr>\n    <tr>\n      <th>9997</th>\n      <td>[B015E9OVSS, B01F2LA6FA, B00VWEQHKA, B00IKCYQD...</td>\n      <td>[B004TIVQJS, B00IKCYQDM, B007AMRQKS, B00VWEQS1...</td>\n      <td>B00G4RP8NM</td>\n      <td>Arnette</td>\n      <td>[Clothing, Shoes &amp; Jewelry, Women, Accessories...</td>\n      <td>&lt;div class=\"a-fixed-left-grid a-spacing-none\"&gt;...</td>\n      <td>[In 1992, Arnette was founded on the principle...</td>\n      <td>{}</td>\n      <td>[Imported, Plastic frame, Plastic lens, Non-Po...</td>\n      <td></td>\n      <td>[https://images-na.ssl-images-amazon.com/image...</td>\n      <td>&lt;img src=\"https://images-na.ssl-images-amazon....</td>\n      <td>$48.99</td>\n      <td>[]</td>\n      <td></td>\n      <td></td>\n      <td></td>\n      <td>Arnette Fire Drill Rectangular Sunglasses</td>\n    </tr>\n    <tr>\n      <th>9998</th>\n      <td>[]</td>\n      <td>[]</td>\n      <td>B00G4ROIXS</td>\n      <td>Arnette</td>\n      <td>[Clothing, Shoes &amp; Jewelry, Women, Accessories...</td>\n      <td>&lt;div class=\"a-fixed-left-grid a-spacing-none\"&gt;...</td>\n      <td>[In 1992, Arnette was founded on the principle...</td>\n      <td>{}</td>\n      <td>[Imported, Plastic frame, Plastic lens, Non-Po...</td>\n      <td></td>\n      <td>[https://images-na.ssl-images-amazon.com/image...</td>\n      <td>&lt;img src=\"https://images-na.ssl-images-amazon....</td>\n      <td></td>\n      <td>7,689,344 in Clothing, Shoes &amp; Jewelry (</td>\n      <td></td>\n      <td></td>\n      <td></td>\n      <td>Arnette Cold One Round Sunglasses</td>\n    </tr>\n    <tr>\n      <th>9999</th>\n      <td>[]</td>\n      <td>[]</td>\n      <td>B00G4RR24A</td>\n      <td>Mevoi</td>\n      <td>[Clothing, Shoes &amp; Jewelry, Women, Jewelry, Je...</td>\n      <td>Mevoi</td>\n      <td>[Elegant jewelry set in silver-tone setting. C...</td>\n      <td>{}</td>\n      <td>[Necklace measures 14-17 inches long with an e...</td>\n      <td></td>\n      <td>[https://images-na.ssl-images-amazon.com/image...</td>\n      <td>&lt;img src=\"https://images-na.ssl-images-amazon....</td>\n      <td>$12.40</td>\n      <td>10,899,333 in Clothing, Shoes &amp; Jewelry (</td>\n      <td></td>\n      <td></td>\n      <td></td>\n      <td>Charming Clear and Color Simulated Rhinestone ...</td>\n    </tr>\n  </tbody>\n</table>\n<p>10000 rows × 18 columns</p>\n</div>"
     },
     "execution_count": 4,
     "metadata": {},
     "output_type": "execute_result"
    }
   ],
   "source": [
    "df.main_cat"
   ],
   "metadata": {
    "collapsed": false,
    "pycharm": {
     "name": "#%%\n"
    }
   }
  },
  {
   "cell_type": "code",
   "execution_count": 15,
   "outputs": [
    {
     "data": {
      "text/plain": "{'Product Identifier': 'B07G41JFMS',\n 'Star Rating': '5',\n 'Reviewer Type': '{\"filterByStar\":\"five_star\",\"pageNumber\":\"1\"}',\n 'Review Content': '5 star\\n\\nJuly 30, 2023\\n12 helpful votes',\n 'Review Date': 'July 30, 2023',\n 'Review Helpful Votes': '12 helpful votes'}"
     },
     "execution_count": 15,
     "metadata": {},
     "output_type": "execute_result"
    }
   ],
   "source": [
    "import re\n",
    "from bs4 import BeautifulSoup\n",
    "\n",
    "html_snippet = '''\n",
    "<div class=\"a-fixed-left-grid a-spacing-none\">\n",
    "    <div class=\"a-fixed-left-grid-inner\" style=\"padding-left:280px\">\n",
    "        <div class=\"a-fixed-left-grid-col a-col-left\" style=\"width:280px;margin-left:-280px;float:left;\">\n",
    "            <span class=\"a-declarative\" data-action=\"reviews:filter-action:push-state\" data-reviews:filter-action:push-state=\"{&quot;scrollToSelector&quot;:&quot;#reviews-filter-info&quot;,&quot;allowLinkDefault&quot;:&quot;1&quot;}\">\n",
    "                <table id=\"histogramTable\" class=\"a-normal a-align-middle a-spacing-base\" role=\"presentation\">\n",
    "                    <tr data-reftag=\"cm_cr_dp_d_hist_5\" data-reviews-state-param=\"{&quot;filterByStar&quot;:&quot;five_star&quot;,&quot;pageNumber&quot;:&quot;1&quot;}\" class=\"a-histogram-row\">\n",
    "                        <td class=\"aok-nowrap\">\n",
    "                            <a aria-label=\"5 star (100%)\" class=\"a-size-base a-link-normal 5star\" title=\"5 star\" href=\"/Buckle-Down-Seatbelt-Little-Wmlp020/product-reviews/B07G41JFMS/ref=cm_cr_dp_d_hist_5?ie=UTF8&amp;filterByStar=five_star&amp;reviewerType=all_reviews#reviews-filter-bar\">5 star</a>\n",
    "                            <span class=\"a-letter-space\"></span>\n",
    "                            <span class=\"review-date\">July 30, 2023</span>\n",
    "                            <span class=\"helpful-votes\">12 helpful votes</span>\n",
    "                        </td>\n",
    "                    </tr>\n",
    "                </table>\n",
    "            </span>\n",
    "        </div>\n",
    "    </div>\n",
    "</div>\n",
    "'''\n",
    "\n",
    "def extract_product_info(html_snippet):\n",
    "    soup = BeautifulSoup(html_snippet, 'html.parser')\n",
    "\n",
    "    # Extract the product identifier\n",
    "    review_link = soup.find('a', class_='5star')\n",
    "    product_identifier = review_link['href'].split('/')[3]\n",
    "\n",
    "    # Extract the star rating\n",
    "    star_rating = review_link.text.split()[0]\n",
    "\n",
    "    # Extract the reviewer type\n",
    "    reviewer_type = soup.find('tr', class_='a-histogram-row')['data-reviews-state-param']\n",
    "\n",
    "    # Extract the review content\n",
    "    review_content = soup.get_text().strip()\n",
    "\n",
    "    # Extract the review date (if present)\n",
    "    review_date_element = soup.find('span', class_='review-date')\n",
    "    review_date = review_date_element.text.strip() if review_date_element else None\n",
    "\n",
    "    # Extract the review helpful votes (if present)\n",
    "    review_helpful_votes_element = soup.find('span', class_='helpful-votes')\n",
    "    review_helpful_votes = review_helpful_votes_element.text.strip() if review_helpful_votes_element else None\n",
    "\n",
    "    # Return all the extracted information\n",
    "    return {\n",
    "        \"Product Identifier\": product_identifier,\n",
    "        \"Star Rating\": star_rating,\n",
    "        \"Reviewer Type\": reviewer_type,\n",
    "        \"Review Content\": review_content,\n",
    "        \"Review Date\": review_date,\n",
    "        \"Review Helpful Votes\": review_helpful_votes,\n",
    "    }\n",
    "\n",
    "# Call the function to extract the information\n",
    "extracted_info = extract_product_info(html_snippet)\n",
    "\n",
    "extracted_info\n"
   ],
   "metadata": {
    "collapsed": false,
    "pycharm": {
     "name": "#%%\n"
    }
   }
  },
  {
   "cell_type": "code",
   "execution_count": 7,
   "outputs": [
    {
     "data": {
      "text/plain": "'<div class=\"a-fixed-left-grid a-spacing-none\"><div class=\"a-fixed-left-grid-inner\" style=\"padding-left:280px\"><div class=\"a-fixed-left-grid-col a-col-left\" style=\"width:280px;margin-left:-280px;float:left;\"><span class=\"a-declarative\" data-action=\"reviews:filter-action:push-state\" data-reviews:filter-action:push-state=\"{&quot;scrollToSelector&quot;:&quot;#reviews-filter-info&quot;,&quot;allowLinkDefault&quot;:&quot;1&quot;}\"><table id=\"histogramTable\" class=\"a-normal a-align-middle a-spacing-base\" role=\"presentation\"><tr data-reftag=\"cm_cr_dp_d_hist_5\" data-reviews-state-param=\"{&quot;filterByStar&quot;:&quot;five_star&quot;,&quot;pageNumber&quot;:&quot;1&quot;}\" class=\"a-histogram-row\"><td class=\"aok-nowrap\"><a aria-label=\"5 star (100%)\" class=\"a-size-base a-link-normal 5star\" title=\"5 star\" href=\"/Buckle-Down-Seatbelt-Little-Wmlp020/product-reviews/B07G41JFMS/ref=cm_cr_dp_d_hist_5?ie=UTF8&amp;filterByStar=five_star&amp;reviewerType=all_reviews#reviews-filter-bar\">5 star</a><span class=\"a-letter-space\"></span>'"
     },
     "execution_count": 7,
     "metadata": {},
     "output_type": "execute_result"
    }
   ],
   "source": [
    "df.date.values[0]"
   ],
   "metadata": {
    "collapsed": false,
    "pycharm": {
     "name": "#%%\n"
    }
   }
  },
  {
   "cell_type": "code",
   "execution_count": 54,
   "outputs": [
    {
     "data": {
      "text/plain": "{'Review Data': \"100% PolyesterMade in USBuckle closureHand WashOur Seatbelt belts are 1.5 inch wide and are infinitely adjustable for pant sizes 24 to 38.Buckle-Down's Trademarked Seatbelt Buckle Fashion Belts are Handcrafted in the USA and are NOT meant to be used as a safety device for a vehicle.These belts are made from high quality polyester and chrome-plated steel components making them some of the most durable accessories on the market.Belts are made with authentic automotive style seatbelt buckles making them easy to open and close at the push of a button.This product is Officially Licensed by My Little Pony.\",\n 'Shipping Information': '',\n 'ASIN': '',\n 'Date first listed on Amazon': ''}"
     },
     "execution_count": 54,
     "metadata": {},
     "output_type": "execute_result"
    }
   ],
   "source": [
    "def is_html_code(input_string):\n",
    "    # Regular expression pattern to match HTML tags\n",
    "    pattern = r\"<\\s*([a-zA-Z]+)(?:\\s+[^>]*)?>.*<\\s*/\\s*\\1\\s*>\"\n",
    "\n",
    "    # Check if the input_string matches the pattern\n",
    "    match = re.search(pattern, input_string)\n",
    "\n",
    "    # If a match is found, it is likely HTML code\n",
    "    return match is not None\n",
    "\n",
    "def extract_review_information(data):\n",
    "    useful_data = {}\n",
    "    temp = ''\n",
    "    for i in data:\n",
    "        if is_html_code(i):\n",
    "            break\n",
    "        else:\n",
    "            temp += i\n",
    "    useful_data['Review Data'] = temp\n",
    "    for html_string in data:\n",
    "        soup = BeautifulSoup(html_string, 'html.parser')\n",
    "        spans = soup.find_all('span', class_='a-text-bold')\n",
    "\n",
    "        for span in spans:\n",
    "            key = span.get_text(strip=True)\n",
    "            if 'Shipping Information' in key:\n",
    "                useful_data['Shipping Information'] = span.next_sibling.get_text(strip=True)\n",
    "            elif 'ASIN' in key:\n",
    "                useful_data['ASIN'] = span.next_sibling.get_text(strip=True)\n",
    "            elif 'Date first listed on Amazon' in key:\n",
    "                useful_data['Date first listed on Amazon'] = span.next_sibling.get_text(strip=True)\n",
    "            elif 'Average Customer Review' in key:\n",
    "                avg_review_span = soup.select_one('span[class^=\"a-icon-star\"]')\n",
    "                if avg_review_span:\n",
    "                    avg_review = avg_review_span.get_text(strip=True)\n",
    "                    useful_data['Average Customer Review'] = avg_review\n",
    "    return useful_data\n",
    "\n",
    "\n",
    "\n",
    "extract_review_information(df.feature.values[0])"
   ],
   "metadata": {
    "collapsed": false,
    "pycharm": {
     "name": "#%%\n"
    }
   }
  },
  {
   "cell_type": "code",
   "execution_count": 50,
   "outputs": [
    {
     "data": {
      "text/plain": "['100% Polyester',\n 'Made in US',\n 'Buckle closure',\n 'Hand Wash',\n 'Our Seatbelt belts are 1.5 inch wide and are infinitely adjustable for pant sizes 24 to 38.',\n \"Buckle-Down's Trademarked Seatbelt Buckle Fashion Belts are Handcrafted in the USA and are NOT meant to be used as a safety device for a vehicle.\",\n 'These belts are made from high quality polyester and chrome-plated steel components making them some of the most durable accessories on the market.',\n 'Belts are made with authentic automotive style seatbelt buckles making them easy to open and close at the push of a button.',\n 'This product is Officially Licensed by My Little Pony.',\n '<span class=\"a-text-bold\">Shipping Information:\\n                    </span>\\n                    <span><a href=\\'https://www.amazon.com/gp/help/seller/shipping.html/ref=dp_pd_shipping?_encoding=UTF8&amp;seller=A3C7MVP0OND08F&amp;asin=B07G41JFMS\\'>View shipping rates and policies</a></span>',\n '<span class=\"a-text-bold\">ASIN:\\n                    </span>\\n                    <span>B07G41JFMS</span>',\n '',\n '<span class=\"a-text-bold\">Date first listed on Amazon:\\n                    </span>\\n                    <span>August 1, 2018</span>',\n '<span class=\"a-text-bold\">\\n                    Average Customer Review:\\n                </span>\\n                \\n\\n\\n\\n\\n<style type=\"text/css\">\\n    /* \\n    * Fix for UDP-1061. Average customer reviews has a small extra line on hover \\n    * https://omni-grok.amazon.com/xref/src/appgroup/websiteTemplates/retail/SoftlinesDetailPageAssets/udp-intl-lock/src/legacy.css?indexName=WebsiteTemplates#40\\n    */\\n    .noUnderline a:hover { \\n        text-decoration: none; \\n    }\\n</style>\\n\\n\\n\\n    \\n    \\n    \\n    \\n        \\n\\n        \\n\\n        \\n        \\n        \\n        \\n\\t\\t\\n\\t\\t\\n\\t\\t\\n\\t\\t\\n\\t\\t        \\n\\t\\t\\n\\t\\t\\n\\t\\t\\n\\t\\t\\n\\t\\t\\n\\t\\t\\n\\t\\t\\n\\t\\t        \\n        \\n\\n        <div id=\"detailBullets_averageCustomerReviews\" class=\"a-spacing-none\" data-asin=\"B07G41JFMS\" data-ref=\"dpx_acr_pop_\" >\\n            \\n            \\n            \\n                \\n                \\n                    \\n\\n\\n\\n\\n\\n\\n\\n\\n\\n\\n        <span class=\"a-declarative\" data-action=\"acrStarsLink-click-metrics\" data-acrStarsLink-click-metrics=\"{}\">\\n            \\n\\n\\n\\n\\n\\n    <span id=\"acrPopover\" class=\"reviewCountTextLinkedHistogram noUnderline\" title=\"5.0 out of 5 stars\">\\n        <span class=\"a-declarative\" data-action=\"a-popover\" data-a-popover=\"{&quot;max-width&quot;:&quot;700&quot;,&quot;closeButton&quot;:&quot;false&quot;,&quot;position&quot;:&quot;triggerBottom&quot;,&quot;url&quot;:&quot;/gp/customer-reviews/widgets/average-customer-review/popover/ref=dpx_acr_pop_?contextId=dpx&amp;asin=B07G41JFMS&quot;}\">\\n            <a href=\"javascript:void(0)\" class=\"a-popover-trigger a-declarative\">\\n                \\n\\n<i class=\"a-icon a-icon-star a-star-5\"><span class=\"a-icon-alt\">5.0 out of 5 stars</span></i>\\n                \\n            <i class=\"a-icon a-icon-popover\"></i></a>\\n        </span>\\n        <span class=\"a-letter-space\"></span>\\n    </span>\\n\\n\\n        </span>\\n        <span class=\"a-letter-space\"></span>\\n        \\n        \\n\\n        \\n\\n        \\n\\n        \\n        \\n        \\n        \\n        \\n        \\n        \\n            \\n            \\n                <span class=\"a-declarative\" data-action=\"acrLink-click-metrics\" data-acrLink-click-metrics=\"{}\">\\n                    <a id=\"acrCustomerReviewLink\" class=\"a-link-normal\" href=\"#customerReviews\">\\n                        <span id=\"acrCustomerReviewText\" class=\"a-size-base\">1 customer review</span>\\n                    </a>\\n                </span>\\n            \\n                <script type=\"text/javascript\">\\n                    P.when(\\'A\\', \\'ready\\').execute(function(A) {\\n                        A.declarative(\\'acrLink-click-metrics\\', \\'click\\', { \"allowLinkDefault\" : true }, function(event){\\n                            if(window.ue) {\\n                                ue.count(\"acrLinkClickCount\", (ue.count(\"acrLinkClickCount\") || 0) + 1);\\n                            }\\n                        });\\n                    });\\n                </script>\\n            \\n            \\n            \\n            \\n        \\n        \\n        <script type=\"text/javascript\">\\n            P.when(\\'A\\', \\'cf\\').execute(function(A) {\\n                A.declarative(\\'acrStarsLink-click-metrics\\', \\'click\\', { \"allowLinkDefault\" : true },  function(event){\\n                    if(window.ue) {\\n                        ue.count(\"acrStarsLinkWithPopoverClickCount\", (ue.count(\"acrStarsLinkWithPopoverClickCount\") || 0) + 1);\\n                    }\\n                });\\n            });\\n        </script>\\n\\n\\n                \\n            \\n        </div>']"
     },
     "execution_count": 50,
     "metadata": {},
     "output_type": "execute_result"
    }
   ],
   "source": [
    "df.feature.values[0]"
   ],
   "metadata": {
    "collapsed": false,
    "pycharm": {
     "name": "#%%\n"
    }
   }
  },
  {
   "cell_type": "code",
   "execution_count": 10,
   "outputs": [
    {
     "data": {
      "text/plain": "['https://images-na.ssl-images-amazon.com/images/I/612C544HHpL._SR38,50_.jpg',\n 'https://images-na.ssl-images-amazon.com/images/I/6100VX-bbHL._SR38,50_.jpg',\n 'https://images-na.ssl-images-amazon.com/images/I/51nrcB7r2vL._SR38,50_.jpg',\n 'https://images-na.ssl-images-amazon.com/images/I/51wLxj5CyDL._SR38,50_.jpg',\n 'https://images-na.ssl-images-amazon.com/images/I/51Fb1p35WvL._SR38,50_.jpg']"
     },
     "execution_count": 10,
     "metadata": {},
     "output_type": "execute_result"
    }
   ],
   "source": [
    "df.image.values[0]"
   ],
   "metadata": {
    "collapsed": false,
    "pycharm": {
     "name": "#%%\n"
    }
   }
  },
  {
   "cell_type": "code",
   "execution_count": 11,
   "outputs": [
    {
     "data": {
      "text/plain": "'<img src=\"https://images-na.ssl-images-amazon.com/images/G/01/nav2/images/gui/amazon-fashion-store-new._CB520838675_.png\" class=\"nav-categ-image\" alt=\"AMAZON FASHION\"/>'"
     },
     "execution_count": 11,
     "metadata": {},
     "output_type": "execute_result"
    }
   ],
   "source": [
    "df.main_cat.values[0]"
   ],
   "metadata": {
    "collapsed": false,
    "pycharm": {
     "name": "#%%\n"
    }
   }
  },
  {
   "cell_type": "code",
   "execution_count": 14,
   "outputs": [
    {
     "name": "stdout",
     "output_type": "stream",
     "text": [
      "Main Category: AMAZON FASHION\n"
     ]
    }
   ],
   "source": [
    "soup = BeautifulSoup(df.main_cat.values[0], 'html.parser')\n",
    "\n",
    "main_category = soup.img['alt']\n",
    "\n",
    "print(\"Main Category:\", main_category)"
   ],
   "metadata": {
    "collapsed": false,
    "pycharm": {
     "name": "#%%\n"
    }
   }
  },
  {
   "cell_type": "code",
   "execution_count": null,
   "outputs": [],
   "source": [],
   "metadata": {
    "collapsed": false,
    "pycharm": {
     "name": "#%%\n"
    }
   }
  }
 ],
 "metadata": {
  "kernelspec": {
   "name": "python3",
   "language": "python",
   "display_name": "Python 3 (ipykernel)"
  },
  "language_info": {
   "codemirror_mode": {
    "name": "ipython",
    "version": 2
   },
   "file_extension": ".py",
   "mimetype": "text/x-python",
   "name": "python",
   "nbconvert_exporter": "python",
   "pygments_lexer": "ipython2",
   "version": "2.7.6"
  }
 },
 "nbformat": 4,
 "nbformat_minor": 0
}